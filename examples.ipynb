{
 "cells": [
  {
   "cell_type": "markdown",
   "id": "37523609",
   "metadata": {},
   "source": [
    "# Wordle helper "
   ]
  },
  {
   "cell_type": "markdown",
   "id": "a3a1f47b",
   "metadata": {},
   "source": [
    "Simple Julia code to help with playing the game Wordle. "
   ]
  },
  {
   "cell_type": "markdown",
   "id": "ef9e747e",
   "metadata": {},
   "source": [
    "## Loading the code"
   ]
  },
  {
   "cell_type": "code",
   "execution_count": 6,
   "id": "b178d573",
   "metadata": {},
   "outputs": [
    {
     "name": "stderr",
     "output_type": "stream",
     "text": [
      "\u001b[32m\u001b[1m  Activating\u001b[22m\u001b[39m project at `~/Github/Wordle_helper`\n"
     ]
    },
    {
     "data": {
      "text/plain": [
       "solve_a_game (generic function with 1 method)"
      ]
     },
     "execution_count": 6,
     "metadata": {},
     "output_type": "execute_result"
    }
   ],
   "source": [
    "import Pkg\n",
    "Pkg.activate(@__DIR__)\n",
    "Pkg.instantiate()\n",
    "\n",
    "import DataStructures: counter\n",
    "import Random: shuffle \n",
    "\n",
    "include(joinpath(@__DIR__, \"wordle_helper.jl\"))"
   ]
  },
  {
   "cell_type": "markdown",
   "id": "16144181",
   "metadata": {},
   "source": [
    "## Finding the best starting word"
   ]
  },
  {
   "cell_type": "code",
   "execution_count": 7,
   "id": "a9d7f4be",
   "metadata": {},
   "outputs": [
    {
     "name": "stderr",
     "output_type": "stream",
     "text": [
      "\u001b[32mProgress: 100%|█████████████████████████████████████████| Time: 0:06:34\u001b[39m\n"
     ]
    },
    {
     "data": {
      "text/plain": [
       "(\"roate\", 60.42462203023758)"
      ]
     },
     "execution_count": 7,
     "metadata": {},
     "output_type": "execute_result"
    }
   ],
   "source": [
    "let \n",
    "    all_words = get_word_lists()\n",
    "    find_best_guess(;all_words..., verbose = true)\n",
    "end "
   ]
  },
  {
   "cell_type": "markdown",
   "id": "3b1e3144",
   "metadata": {},
   "source": [
    "Using only guesses that could be solutions:"
   ]
  },
  {
   "cell_type": "code",
   "execution_count": 8,
   "id": "bcbb6ef0",
   "metadata": {},
   "outputs": [
    {
     "name": "stderr",
     "output_type": "stream",
     "text": [
      "\u001b[32mProgress: 100%|█████████████████████████████████████████| Time: 0:01:10\u001b[39m\n"
     ]
    },
    {
     "data": {
      "text/plain": [
       "(\"raise\", 61.000431965442765)"
      ]
     },
     "execution_count": 8,
     "metadata": {},
     "output_type": "execute_result"
    }
   ],
   "source": [
    "let \n",
    "    all_words = get_word_lists(; use_all_allowed_guesses = false)\n",
    "    find_best_guess(;all_words..., verbose = true)\n",
    "end "
   ]
  },
  {
   "cell_type": "markdown",
   "id": "5795020f",
   "metadata": {},
   "source": [
    "Using an entropy measure for the score:"
   ]
  },
  {
   "cell_type": "code",
   "execution_count": 9,
   "id": "2aa9578c",
   "metadata": {},
   "outputs": [
    {
     "name": "stderr",
     "output_type": "stream",
     "text": [
      "\u001b[32mProgress: 100%|█████████████████████████████████████████| Time: 0:06:29\u001b[39m\n"
     ]
    },
    {
     "data": {
      "text/plain": [
       "(\"soare\", -5.815104366608849)"
      ]
     },
     "execution_count": 9,
     "metadata": {},
     "output_type": "execute_result"
    }
   ],
   "source": [
    "let \n",
    "    all_words = get_word_lists()\n",
    "    find_best_guess(;all_words..., verbose = true, use_entropy = true)\n",
    "end "
   ]
  },
  {
   "cell_type": "code",
   "execution_count": 10,
   "id": "ded8ac82",
   "metadata": {},
   "outputs": [
    {
     "name": "stderr",
     "output_type": "stream",
     "text": [
      "\u001b[32mProgress: 100%|█████████████████████████████████████████| Time: 0:01:11\u001b[39m\n"
     ]
    },
    {
     "data": {
      "text/plain": [
       "(\"raise\", -5.805725970243446)"
      ]
     },
     "execution_count": 10,
     "metadata": {},
     "output_type": "execute_result"
    }
   ],
   "source": [
    "let \n",
    "    all_words = get_word_lists(; use_all_allowed_guesses = false)\n",
    "    find_best_guess(;all_words..., verbose = true, use_entropy = true)\n",
    "end "
   ]
  },
  {
   "cell_type": "markdown",
   "id": "4c39850e",
   "metadata": {},
   "source": [
    "## Solving some words"
   ]
  },
  {
   "cell_type": "markdown",
   "id": "a78753c3",
   "metadata": {},
   "source": [
    "Testing some solutions"
   ]
  },
  {
   "cell_type": "code",
   "execution_count": 11,
   "id": "aa200690",
   "metadata": {},
   "outputs": [
    {
     "name": "stdout",
     "output_type": "stream",
     "text": [
      "[\"raise\", \"betel\", \"enjoy\", \"epoxy\"]\n",
      "[\"raise\", \"could\", \"lodge\"]\n",
      "[\"raise\", \"could\", \"blimp\", \"awash\", \"wound\"]\n",
      "[\"raise\", \"slash\", \"about\", \"awash\"]\n",
      "[\"raise\"]\n"
     ]
    }
   ],
   "source": [
    "let \n",
    "    all_words = get_word_lists(; use_all_allowed_guesses = false)\n",
    "    for w in [\"epoxy\", \"lodge\", \"wound\", \"awash\", \"raise\"] \n",
    "        println(solve(w, \"raise\"; all_words...))\n",
    "    end \n",
    "end"
   ]
  },
  {
   "cell_type": "code",
   "execution_count": 12,
   "id": "61697116",
   "metadata": {},
   "outputs": [
    {
     "name": "stdout",
     "output_type": "stream",
     "text": [
      "[\"raise\", \"betel\", \"envoy\", \"epoxy\"]\n",
      "[\"raise\", \"could\", \"lodge\"]\n",
      "[\"raise\", \"mulch\", \"bound\", \"awful\", \"wound\"]\n",
      "[\"raise\", \"slash\", \"about\", \"awash\"]\n",
      "[\"raise\"]\n"
     ]
    }
   ],
   "source": [
    "let \n",
    "    all_words = get_word_lists(; use_all_allowed_guesses = false)\n",
    "    for w in [\"epoxy\", \"lodge\", \"wound\", \"awash\", \"raise\"] \n",
    "        println(solve(w, \"raise\"; all_words..., use_entropy = true))\n",
    "    end \n",
    "end"
   ]
  },
  {
   "cell_type": "markdown",
   "id": "aec3e62e",
   "metadata": {},
   "source": [
    "### Hard mode"
   ]
  },
  {
   "cell_type": "code",
   "execution_count": 13,
   "id": "72226313",
   "metadata": {},
   "outputs": [
    {
     "name": "stdout",
     "output_type": "stream",
     "text": [
      "[\"roate\", \"demon\", \"epoch\", \"epoxy\"]\n",
      "[\"roate\", \"louse\", \"lodge\"]\n",
      "[\"roate\", \"godly\", \"bound\", \"found\", \"hound\", \"mound\", \"pound\", \"sound\", \"wound\"]\n",
      "[\"roate\", \"slack\", \"awash\"]\n",
      "[\"roate\", \"raise\"]\n"
     ]
    }
   ],
   "source": [
    "let \n",
    "    all_words = get_word_lists(; use_all_allowed_guesses = false)\n",
    "    for w in [\"epoxy\", \"lodge\", \"wound\", \"awash\", \"raise\"] \n",
    "        println(solve(w, \"roate\"; all_words..., hard_mode = true))\n",
    "    end\n",
    "end  "
   ]
  },
  {
   "cell_type": "markdown",
   "id": "c2a26857",
   "metadata": {},
   "source": [
    "## Solving all games"
   ]
  },
  {
   "cell_type": "code",
   "execution_count": 14,
   "id": "eed15bb7",
   "metadata": {},
   "outputs": [
    {
     "data": {
      "text/plain": [
       "solve_all_words (generic function with 1 method)"
      ]
     },
     "execution_count": 14,
     "metadata": {},
     "output_type": "execute_result"
    }
   ],
   "source": [
    "function solve_all_words(; use_all_allowed_guesses = true, hard_mode = false, first_guess = \"raise\", use_entropy = false)\n",
    "    all_words = get_word_lists(; use_all_allowed_guesses)\n",
    "    p = Progress(length(all_words.words))\n",
    "    return ThreadsX.map(shuffle(all_words.words)) do word \n",
    "        next!(p)\n",
    "        solve(word, first_guess; all_words..., hard_mode, use_entropy)\n",
    "    end\n",
    "end"
   ]
  },
  {
   "cell_type": "code",
   "execution_count": 15,
   "id": "765f1524",
   "metadata": {},
   "outputs": [
    {
     "name": "stderr",
     "output_type": "stream",
     "text": [
      "\u001b[32mProgress: 100%|█████████████████████████████████████████| Time: 0:16:02\u001b[39m\n"
     ]
    },
    {
     "data": {
      "text/plain": [
       "5-element Vector{Pair{Int64, Int64}}:\n",
       " 1 => 1\n",
       " 2 => 57\n",
       " 3 => 1117\n",
       " 4 => 1078\n",
       " 5 => 62"
      ]
     },
     "execution_count": 15,
     "metadata": {},
     "output_type": "execute_result"
    }
   ],
   "source": [
    "let \n",
    "    sol = solve_all_words()\n",
    "    counter(map(x -> length(x), sol)) |> collect |> sort\n",
    "end "
   ]
  },
  {
   "cell_type": "markdown",
   "id": "f906401a",
   "metadata": {},
   "source": [
    "This algorithm breaks all Wordle puzzles under 5 guesses. "
   ]
  },
  {
   "cell_type": "markdown",
   "id": "69b5e4e5",
   "metadata": {},
   "source": [
    "Using the entropy score:"
   ]
  },
  {
   "cell_type": "code",
   "execution_count": 16,
   "id": "15f926c8",
   "metadata": {},
   "outputs": [
    {
     "name": "stderr",
     "output_type": "stream",
     "text": [
      "\u001b[32mProgress: 100%|█████████████████████████████████████████| Time: 0:16:01\u001b[39m\n"
     ]
    },
    {
     "data": {
      "text/plain": [
       "6-element Vector{Pair{Int64, Int64}}:\n",
       " 1 => 1\n",
       " 2 => 58\n",
       " 3 => 1161\n",
       " 4 => 1032\n",
       " 5 => 61\n",
       " 6 => 2"
      ]
     },
     "execution_count": 16,
     "metadata": {},
     "output_type": "execute_result"
    }
   ],
   "source": [
    "let \n",
    "    sol = solve_all_words(use_entropy = true)\n",
    "    counter(map(x -> length(x), sol)) |> collect |> sort\n",
    "end "
   ]
  },
  {
   "cell_type": "markdown",
   "id": "2cd17dae",
   "metadata": {},
   "source": [
    "Using only guesses that are potential solutions: "
   ]
  },
  {
   "cell_type": "code",
   "execution_count": 17,
   "id": "4ba3ba49",
   "metadata": {},
   "outputs": [
    {
     "name": "stderr",
     "output_type": "stream",
     "text": [
      "\u001b[32mProgress: 100%|█████████████████████████████████████████| Time: 0:02:53\u001b[39m\n"
     ]
    },
    {
     "data": {
      "text/plain": [
       "5-element Vector{Pair{Int64, Int64}}:\n",
       " 1 => 1\n",
       " 2 => 61\n",
       " 3 => 1073\n",
       " 4 => 1090\n",
       " 5 => 90"
      ]
     },
     "execution_count": 17,
     "metadata": {},
     "output_type": "execute_result"
    }
   ],
   "source": [
    "let \n",
    "    sol = solve_all_words(; use_all_allowed_guesses = false, first_guess = \"raise\")\n",
    "    counter(map(x -> length(x), sol)) |> collect |> sort\n",
    "end"
   ]
  },
  {
   "cell_type": "markdown",
   "id": "2db645df",
   "metadata": {},
   "source": [
    "### Hard mode"
   ]
  },
  {
   "cell_type": "code",
   "execution_count": 18,
   "id": "2199d36f",
   "metadata": {},
   "outputs": [
    {
     "name": "stderr",
     "output_type": "stream",
     "text": [
      "\u001b[32mProgress: 100%|█████████████████████████████████████████| Time: 0:00:10\u001b[39m\n"
     ]
    },
    {
     "data": {
      "text/plain": [
       "8-element Vector{Pair{Int64, Int64}}:\n",
       " 1 => 1\n",
       " 2 => 131\n",
       " 3 => 957\n",
       " 4 => 945\n",
       " 5 => 225\n",
       " 6 => 42\n",
       " 7 => 11\n",
       " 8 => 3"
      ]
     },
     "execution_count": 18,
     "metadata": {},
     "output_type": "execute_result"
    }
   ],
   "source": [
    "let \n",
    "    sol = solve_all_words(; hard_mode = true)\n",
    "    counter(map(x -> length(x), sol)) |> collect |> sort\n",
    "end "
   ]
  },
  {
   "cell_type": "markdown",
   "id": "ec0cdb99",
   "metadata": {},
   "source": [
    "Using the entropy score:"
   ]
  },
  {
   "cell_type": "code",
   "execution_count": 19,
   "id": "532b2730",
   "metadata": {},
   "outputs": [
    {
     "name": "stderr",
     "output_type": "stream",
     "text": [
      "\u001b[32mProgress: 100%|█████████████████████████████████████████| Time: 0:00:10\u001b[39m\n"
     ]
    },
    {
     "data": {
      "text/plain": [
       "8-element Vector{Pair{Int64, Int64}}:\n",
       " 1 => 1\n",
       " 2 => 131\n",
       " 3 => 995\n",
       " 4 => 917\n",
       " 5 => 212\n",
       " 6 => 46\n",
       " 7 => 11\n",
       " 8 => 2"
      ]
     },
     "execution_count": 19,
     "metadata": {},
     "output_type": "execute_result"
    }
   ],
   "source": [
    "let \n",
    "    sol = solve_all_words(; hard_mode = true, use_entropy = true)\n",
    "    counter(map(x -> length(x), sol)) |> collect |> sort\n",
    "end "
   ]
  },
  {
   "cell_type": "markdown",
   "id": "0a683bfe",
   "metadata": {},
   "source": [
    "Using only guesses that are potential solutions:"
   ]
  },
  {
   "cell_type": "code",
   "execution_count": 20,
   "id": "92fbd5a9",
   "metadata": {},
   "outputs": [
    {
     "name": "stderr",
     "output_type": "stream",
     "text": [
      "\u001b[32mProgress: 100%|█████████████████████████████████████████| Time: 0:00:09\u001b[39m\n"
     ]
    },
    {
     "data": {
      "text/plain": [
       "8-element Vector{Pair{Int64, Int64}}:\n",
       " 1 => 1\n",
       " 2 => 131\n",
       " 3 => 957\n",
       " 4 => 945\n",
       " 5 => 225\n",
       " 6 => 42\n",
       " 7 => 11\n",
       " 8 => 3"
      ]
     },
     "execution_count": 20,
     "metadata": {},
     "output_type": "execute_result"
    }
   ],
   "source": [
    "let \n",
    "    sol = solve_all_words(; hard_mode = true, use_all_allowed_guesses = false, first_guess = \"raise\")\n",
    "    counter(map(x -> length(x), sol)) |> collect |> sort\n",
    "end "
   ]
  },
  {
   "cell_type": "markdown",
   "id": "fb405a8a",
   "metadata": {},
   "source": [
    "## Breaking one Wordle\n",
    "\n",
    "### Wordle 220"
   ]
  },
  {
   "cell_type": "code",
   "execution_count": 21,
   "id": "68d8be88",
   "metadata": {},
   "outputs": [
    {
     "data": {
      "text/plain": [
       "(\"chant\", 2.3333333333333335)"
      ]
     },
     "execution_count": 21,
     "metadata": {},
     "output_type": "execute_result"
    }
   ],
   "source": [
    "all_words = get_word_lists()\n",
    "game_words = get_word_lists().words\n",
    "\n",
    "new_guess_and_update!(game_words, \"raise\", [1, 1, 0, 1, 0], all_words.words)"
   ]
  },
  {
   "cell_type": "code",
   "execution_count": 22,
   "id": "b8b028fa",
   "metadata": {},
   "outputs": [
    {
     "data": {
      "text/plain": [
       "(\"solar\", 0.6666666666666666)"
      ]
     },
     "execution_count": 22,
     "metadata": {},
     "output_type": "execute_result"
    }
   ],
   "source": [
    "new_guess_and_update!(game_words, \"chant\", [0, 0, 1, 0, 0], all_words.words)"
   ]
  },
  {
   "cell_type": "code",
   "execution_count": 23,
   "id": "eda5bb80",
   "metadata": {},
   "outputs": [
    {
     "data": {
      "text/plain": [
       "(\"sugar\", 0.0)"
      ]
     },
     "execution_count": 23,
     "metadata": {},
     "output_type": "execute_result"
    }
   ],
   "source": [
    "new_guess_and_update!(game_words, \"solar\", [2, 0, 0, 2, 2], all_words.words)"
   ]
  },
  {
   "cell_type": "markdown",
   "id": "3285ca33",
   "metadata": {},
   "source": [
    "### Wordle 223 "
   ]
  },
  {
   "cell_type": "code",
   "execution_count": 24,
   "id": "3dee9b70",
   "metadata": {},
   "outputs": [
    {
     "data": {
      "text/plain": [
       "(\"outer\", 8.676470588235293)"
      ]
     },
     "execution_count": 24,
     "metadata": {},
     "output_type": "execute_result"
    }
   ],
   "source": [
    "all_words = get_word_lists()\n",
    "game_words = get_word_lists().words\n",
    "\n",
    "new_guess_and_update!(game_words, \"raise\", [1, 0, 0, 0, 1], all_words.words)"
   ]
  },
  {
   "cell_type": "code",
   "execution_count": 25,
   "id": "35884a90",
   "metadata": {},
   "outputs": [
    {
     "data": {
      "text/plain": [
       "(\"clerk\", 1.7857142857142858)"
      ]
     },
     "execution_count": 25,
     "metadata": {},
     "output_type": "execute_result"
    }
   ],
   "source": [
    "new_guess_and_update!(game_words, \"outer\", [0, 0, 0, 1, 1], all_words.words)"
   ]
  },
  {
   "cell_type": "code",
   "execution_count": 26,
   "id": "a3219ede",
   "metadata": {},
   "outputs": [
    {
     "data": {
      "text/plain": [
       "(\"jerky\", 0.5)"
      ]
     },
     "execution_count": 26,
     "metadata": {},
     "output_type": "execute_result"
    }
   ],
   "source": [
    "new_guess_and_update!(game_words, \"clerk\", [0, 0, 1, 1, 1], all_words.words)"
   ]
  },
  {
   "cell_type": "code",
   "execution_count": 27,
   "id": "f808713e",
   "metadata": {},
   "outputs": [
    {
     "data": {
      "text/plain": [
       "(\"perky\", 0.0)"
      ]
     },
     "execution_count": 27,
     "metadata": {},
     "output_type": "execute_result"
    }
   ],
   "source": [
    "new_guess_and_update!(game_words, \"jerky\", [0, 2, 2, 2, 2], all_words.words)"
   ]
  },
  {
   "cell_type": "markdown",
   "id": "6cdb5103",
   "metadata": {},
   "source": [
    "### Hard mode. \n"
   ]
  },
  {
   "cell_type": "markdown",
   "id": "db9fe15d",
   "metadata": {},
   "source": [
    "Wordle 222 "
   ]
  },
  {
   "cell_type": "code",
   "execution_count": 28,
   "id": "4dc84315",
   "metadata": {},
   "outputs": [
    {
     "data": {
      "text/plain": [
       "(\"could\", 6.267857142857143)"
      ]
     },
     "execution_count": 28,
     "metadata": {},
     "output_type": "execute_result"
    }
   ],
   "source": [
    "all_words = get_word_lists()\n",
    "game_words = get_word_lists().words\n",
    "\n",
    "new_guess_and_update!(game_words, \"raise\", [0, 0, 0, 0, 0], game_words, hard_mode = true)"
   ]
  },
  {
   "cell_type": "code",
   "execution_count": 29,
   "id": "ba42ada7",
   "metadata": {},
   "outputs": [
    {
     "data": {
      "text/plain": [
       "(\"mouth\", 0.8571428571428571)"
      ]
     },
     "execution_count": 29,
     "metadata": {},
     "output_type": "execute_result"
    }
   ],
   "source": [
    "new_guess_and_update!(game_words, \"could\", [0, 2, 2, 0, 0], game_words, hard_mode = true)"
   ]
  },
  {
   "cell_type": "code",
   "execution_count": 30,
   "id": "82c5db6b",
   "metadata": {},
   "outputs": [
    {
     "data": {
      "text/plain": [
       "(\"mount\", 0.0)"
      ]
     },
     "execution_count": 30,
     "metadata": {},
     "output_type": "execute_result"
    }
   ],
   "source": [
    "new_guess_and_update!(game_words, \"mouth\", [2, 2, 2, 1, 0], game_words, hard_mode = true)"
   ]
  },
  {
   "cell_type": "code",
   "execution_count": null,
   "id": "4899832c",
   "metadata": {},
   "outputs": [],
   "source": []
  }
 ],
 "metadata": {
  "kernelspec": {
   "display_name": "Julia 20 threads 1.7.1",
   "language": "julia",
   "name": "julia-20-threads-1.7"
  },
  "language_info": {
   "file_extension": ".jl",
   "mimetype": "application/julia",
   "name": "julia",
   "version": "1.7.1"
  }
 },
 "nbformat": 4,
 "nbformat_minor": 5
}

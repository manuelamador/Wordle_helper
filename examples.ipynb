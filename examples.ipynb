{
 "cells": [
  {
   "cell_type": "markdown",
   "id": "37523609",
   "metadata": {},
   "source": [
    "# Wordle helper "
   ]
  },
  {
   "cell_type": "markdown",
   "id": "a3a1f47b",
   "metadata": {},
   "source": [
    "Simple Julia code to help with playing the game Wordle. "
   ]
  },
  {
   "cell_type": "markdown",
   "id": "ef9e747e",
   "metadata": {},
   "source": [
    "## Loading the code"
   ]
  },
  {
   "cell_type": "code",
   "execution_count": 2,
   "id": "b178d573",
   "metadata": {},
   "outputs": [
    {
     "name": "stderr",
     "output_type": "stream",
     "text": [
      "\u001b[32m\u001b[1m  Activating\u001b[22m\u001b[39m project at `~/Github/Wordle_helper`\n"
     ]
    }
   ],
   "source": [
    "import Pkg\n",
    "Pkg.activate(@__DIR__)\n",
    "Pkg.instantiate()\n",
    "\n",
    "import DataStructures: counter\n",
    "import Random: shuffle \n",
    "\n",
    "include(joinpath(@__DIR__, \"wordle_helper.jl\"));"
   ]
  },
  {
   "cell_type": "markdown",
   "id": "16144181",
   "metadata": {},
   "source": [
    "## Finding the best starting word"
   ]
  },
  {
   "cell_type": "code",
   "execution_count": 3,
   "id": "a9d7f4be",
   "metadata": {},
   "outputs": [
    {
     "name": "stderr",
     "output_type": "stream",
     "text": [
      "\u001b[32mProgress: 100%|█████████████████████████████████████████| Time: 0:08:44\u001b[39m\n"
     ]
    },
    {
     "data": {
      "text/plain": [
       "\"roate\""
      ]
     },
     "execution_count": 3,
     "metadata": {},
     "output_type": "execute_result"
    }
   ],
   "source": [
    "let \n",
    "    all_words = load_word_lists()\n",
    "    find_best_guess(; all_words..., verbose = true)\n",
    "end "
   ]
  },
  {
   "cell_type": "markdown",
   "id": "5795020f",
   "metadata": {},
   "source": [
    "Using an entropy measure for the score:"
   ]
  },
  {
   "cell_type": "code",
   "execution_count": 4,
   "id": "2aa9578c",
   "metadata": {},
   "outputs": [
    {
     "name": "stderr",
     "output_type": "stream",
     "text": [
      "\u001b[32mProgress: 100%|█████████████████████████████████████████| Time: 0:08:43\u001b[39m\n"
     ]
    },
    {
     "data": {
      "text/plain": [
       "\"soare\""
      ]
     },
     "execution_count": 4,
     "metadata": {},
     "output_type": "execute_result"
    }
   ],
   "source": [
    "let \n",
    "    all_words = load_word_lists()\n",
    "    find_best_guess(; all_words..., verbose = true, use_entropy = true)\n",
    "end "
   ]
  },
  {
   "cell_type": "markdown",
   "id": "4c39850e",
   "metadata": {},
   "source": [
    "## Solving some words"
   ]
  },
  {
   "cell_type": "markdown",
   "id": "a78753c3",
   "metadata": {},
   "source": [
    "Testing some solutions"
   ]
  },
  {
   "cell_type": "code",
   "execution_count": 5,
   "id": "aa200690",
   "metadata": {},
   "outputs": [
    {
     "name": "stdout",
     "output_type": "stream",
     "text": [
      "[\"raise\", \"denet\", \"epoch\", \"epoxy\"]\n",
      "[\"raise\", \"nould\", \"lodge\"]\n",
      "[\"raise\", \"could\", \"bumph\", \"found\", \"wound\"]\n",
      "[\"raise\", \"slash\", \"about\", \"awash\"]\n",
      "[\"raise\"]\n"
     ]
    }
   ],
   "source": [
    "let \n",
    "    all_words = load_word_lists()\n",
    "    for w in [\"epoxy\", \"lodge\", \"wound\", \"awash\", \"raise\"] \n",
    "        println(solve(w, \"raise\"; all_words...))\n",
    "    end \n",
    "end"
   ]
  },
  {
   "cell_type": "code",
   "execution_count": 6,
   "id": "61697116",
   "metadata": {},
   "outputs": [
    {
     "name": "stdout",
     "output_type": "stream",
     "text": [
      "[\"raise\", \"denet\", \"epoch\", \"epoxy\"]\n",
      "[\"raise\", \"nould\", \"lodge\"]\n",
      "[\"raise\", \"mulch\", \"bawty\", \"wound\"]\n",
      "[\"raise\", \"slash\", \"about\", \"awash\"]\n",
      "[\"raise\"]\n"
     ]
    }
   ],
   "source": [
    "let \n",
    "    all_words = load_word_lists()\n",
    "    for w in [\"epoxy\", \"lodge\", \"wound\", \"awash\", \"raise\"] \n",
    "        println(solve(w, \"raise\"; all_words..., use_entropy = true))\n",
    "    end \n",
    "end"
   ]
  },
  {
   "cell_type": "markdown",
   "id": "aec3e62e",
   "metadata": {},
   "source": [
    "### Hard mode"
   ]
  },
  {
   "cell_type": "code",
   "execution_count": 7,
   "id": "72226313",
   "metadata": {},
   "outputs": [
    {
     "name": "stdout",
     "output_type": "stream",
     "text": [
      "[\"roate\", \"demon\", \"epoch\", \"epoxy\"]\n",
      "[\"roate\", \"louse\", \"lodge\"]\n",
      "[\"roate\", \"goldy\", \"dowps\", \"wound\"]\n",
      "[\"roate\", \"slack\", \"unais\", \"awash\"]\n",
      "[\"roate\", \"raise\"]\n"
     ]
    }
   ],
   "source": [
    "let \n",
    "    all_words = load_word_lists()\n",
    "    for w in [\"epoxy\", \"lodge\", \"wound\", \"awash\", \"raise\"] \n",
    "        println(solve(w, \"roate\"; all_words..., hard_mode = true))\n",
    "    end\n",
    "end  "
   ]
  },
  {
   "cell_type": "markdown",
   "id": "c2a26857",
   "metadata": {},
   "source": [
    "## Solving all games"
   ]
  },
  {
   "cell_type": "code",
   "execution_count": 8,
   "id": "eed15bb7",
   "metadata": {},
   "outputs": [
    {
     "data": {
      "text/plain": [
       "solve_all_words (generic function with 1 method)"
      ]
     },
     "execution_count": 8,
     "metadata": {},
     "output_type": "execute_result"
    }
   ],
   "source": [
    "function solve_all_words(; hard_mode = false, first_guess = \"roate\", use_entropy = false)\n",
    "    all_words = load_word_lists()\n",
    "    p = Progress(length(all_words.words))\n",
    "    sols = similar(all_words.words, Any)\n",
    "    @floop for (i, word) in pairs(shuffle(all_words.words))\n",
    "        next!(p)\n",
    "        sols[i] = solve(word, first_guess; all_words..., hard_mode, use_entropy)\n",
    "    end \n",
    "    return sols\n",
    "end"
   ]
  },
  {
   "cell_type": "code",
   "execution_count": 9,
   "id": "765f1524",
   "metadata": {},
   "outputs": [
    {
     "name": "stderr",
     "output_type": "stream",
     "text": [
      "\u001b[32mProgress: 100%|█████████████████████████████████████████| Time: 0:15:27\u001b[39m\n"
     ]
    },
    {
     "data": {
      "text/plain": [
       "4-element Vector{Pair{Int64, Int64}}:\n",
       " 2 => 54\n",
       " 3 => 1126\n",
       " 4 => 1095\n",
       " 5 => 40"
      ]
     },
     "execution_count": 9,
     "metadata": {},
     "output_type": "execute_result"
    }
   ],
   "source": [
    "let \n",
    "    sol = solve_all_words()\n",
    "    counter(map(x -> length(x), sol)) |> collect |> sort\n",
    "end "
   ]
  },
  {
   "cell_type": "markdown",
   "id": "f906401a",
   "metadata": {},
   "source": [
    "This algorithm breaks all Wordle puzzles under 5 guesses. "
   ]
  },
  {
   "cell_type": "markdown",
   "id": "69b5e4e5",
   "metadata": {},
   "source": [
    "Using the entropy score:"
   ]
  },
  {
   "cell_type": "code",
   "execution_count": 10,
   "id": "15f926c8",
   "metadata": {},
   "outputs": [
    {
     "name": "stderr",
     "output_type": "stream",
     "text": [
      "\u001b[32mProgress: 100%|█████████████████████████████████████████| Time: 0:15:21\u001b[39m\n"
     ]
    },
    {
     "data": {
      "text/plain": [
       "4-element Vector{Pair{Int64, Int64}}:\n",
       " 2 => 58\n",
       " 3 => 1145\n",
       " 4 => 1067\n",
       " 5 => 45"
      ]
     },
     "execution_count": 10,
     "metadata": {},
     "output_type": "execute_result"
    }
   ],
   "source": [
    "let \n",
    "    sol = solve_all_words(use_entropy = true)\n",
    "    counter(map(x -> length(x), sol)) |> collect |> sort\n",
    "end "
   ]
  },
  {
   "cell_type": "markdown",
   "id": "2db645df",
   "metadata": {},
   "source": [
    "### Hard mode"
   ]
  },
  {
   "cell_type": "code",
   "execution_count": 11,
   "id": "2199d36f",
   "metadata": {},
   "outputs": [
    {
     "name": "stderr",
     "output_type": "stream",
     "text": [
      "\u001b[32mProgress: 100%|█████████████████████████████████████████| Time: 0:00:57\u001b[39m\n"
     ]
    },
    {
     "name": "stdout",
     "output_type": "stream",
     "text": [
      "[2 => 92, 3 => 1010, 4 => 986, 5 => 184, 6 => 35, 7 => 7, 8 => 1]\n"
     ]
    },
    {
     "data": {
      "text/plain": [
       "8-element Vector{String}:\n",
       " \"joker\"\n",
       " \"patch\"\n",
       " \"watch\"\n",
       " \"vaunt\"\n",
       " \"sower\"\n",
       " \"willy\"\n",
       " \"wight\"\n",
       " \"waste\""
      ]
     },
     "execution_count": 11,
     "metadata": {},
     "output_type": "execute_result"
    }
   ],
   "source": [
    "let \n",
    "    sol = solve_all_words(; hard_mode = true)\n",
    "    println(counter(map(x -> length(x), sol)) |> collect |> sort)\n",
    "    map(last, sol[findall(x -> length(x) > 6, sol)])\n",
    "end "
   ]
  },
  {
   "cell_type": "markdown",
   "id": "ec0cdb99",
   "metadata": {},
   "source": [
    "Using the entropy score:"
   ]
  },
  {
   "cell_type": "code",
   "execution_count": 12,
   "id": "532b2730",
   "metadata": {},
   "outputs": [
    {
     "name": "stderr",
     "output_type": "stream",
     "text": [
      "\u001b[32mProgress: 100%|█████████████████████████████████████████| Time: 0:00:58\u001b[39m\n"
     ]
    },
    {
     "name": "stdout",
     "output_type": "stream",
     "text": [
      "[2 => 99, 3 => 1038, 4 => 965, 5 => 177, 6 => 30, 7 => 5, 8 => 1]\n"
     ]
    },
    {
     "data": {
      "text/plain": [
       "6-element Vector{String}:\n",
       " \"waste\"\n",
       " \"wight\"\n",
       " \"willy\"\n",
       " \"vaunt\"\n",
       " \"watch\"\n",
       " \"match\""
      ]
     },
     "execution_count": 12,
     "metadata": {},
     "output_type": "execute_result"
    }
   ],
   "source": [
    "let \n",
    "    sol = solve_all_words(; hard_mode = true, use_entropy = true)\n",
    "    counter(map(x -> length(x), sol)) |> collect |> sort |> println\n",
    "    map(last, sol[findall(x -> length(x) > 6, sol)])\n",
    "end "
   ]
  },
  {
   "cell_type": "code",
   "execution_count": 13,
   "id": "d41ff839",
   "metadata": {},
   "outputs": [
    {
     "name": "stderr",
     "output_type": "stream",
     "text": [
      "\u001b[32mProgress: 100%|█████████████████████████████████████████| Time: 0:00:42\u001b[39m\n"
     ]
    },
    {
     "name": "stdout",
     "output_type": "stream",
     "text": [
      "[2 => 92, 3 => 1033, 4 => 951, 5 => 189, 6 => 35, 7 => 11, 8 => 4]\n"
     ]
    },
    {
     "data": {
      "text/plain": [
       "15-element Vector{String}:\n",
       " \"swore\"\n",
       " \"jaunt\"\n",
       " \"jolly\"\n",
       " \"tower\"\n",
       " \"vaunt\"\n",
       " \"patch\"\n",
       " \"waste\"\n",
       " \"shave\"\n",
       " \"rower\"\n",
       " \"wound\"\n",
       " \"willy\"\n",
       " \"watch\"\n",
       " \"rover\"\n",
       " \"tried\"\n",
       " \"pound\""
      ]
     },
     "execution_count": 13,
     "metadata": {},
     "output_type": "execute_result"
    }
   ],
   "source": [
    "let \n",
    "    sol = solve_all_words(; first_guess = \"soare\", hard_mode = true, use_entropy = true)\n",
    "    counter(map(x -> length(x), sol)) |> collect |> sort |> println\n",
    "    map(last, sol[findall(x -> length(x) > 6, sol)])\n",
    "end "
   ]
  },
  {
   "cell_type": "markdown",
   "id": "fb405a8a",
   "metadata": {},
   "source": [
    "## Breaking one Wordle\n",
    "\n",
    "### Wordle 220"
   ]
  },
  {
   "cell_type": "code",
   "execution_count": 14,
   "id": "68d8be88",
   "metadata": {},
   "outputs": [
    {
     "data": {
      "text/plain": [
       "\"carrs\""
      ]
     },
     "execution_count": 14,
     "metadata": {},
     "output_type": "execute_result"
    }
   ],
   "source": [
    "all_words = load_word_lists()\n",
    "game_words = load_word_lists().words\n",
    "\n",
    "new_guess_and_update!(game_words, \"roate\", [1, 0, 1, 0, 0], all_words.allowed_guesses)"
   ]
  },
  {
   "cell_type": "code",
   "execution_count": 15,
   "id": "b8b028fa",
   "metadata": {},
   "outputs": [
    {
     "data": {
      "text/plain": [
       "\"sugar\""
      ]
     },
     "execution_count": 15,
     "metadata": {},
     "output_type": "execute_result"
    }
   ],
   "source": [
    "new_guess_and_update!(game_words, \"carrs\", [0, 1, 1, 0, 1], all_words.words)"
   ]
  },
  {
   "cell_type": "markdown",
   "id": "3285ca33",
   "metadata": {},
   "source": [
    "### Wordle 223 "
   ]
  },
  {
   "cell_type": "code",
   "execution_count": 16,
   "id": "3dee9b70",
   "metadata": {},
   "outputs": [
    {
     "data": {
      "text/plain": [
       "\"spied\""
      ]
     },
     "execution_count": 16,
     "metadata": {},
     "output_type": "execute_result"
    }
   ],
   "source": [
    "all_words = load_word_lists()\n",
    "game_words = load_word_lists().words\n",
    "\n",
    "new_guess_and_update!(game_words, \"roate\", [1, 0, 0, 0, 1], all_words.words)"
   ]
  },
  {
   "cell_type": "code",
   "execution_count": 17,
   "id": "35884a90",
   "metadata": {},
   "outputs": [
    {
     "data": {
      "text/plain": [
       "\"perch\""
      ]
     },
     "execution_count": 17,
     "metadata": {},
     "output_type": "execute_result"
    }
   ],
   "source": [
    "new_guess_and_update!(game_words, \"spied\", [0, 1, 0, 1, 0], all_words.words)"
   ]
  },
  {
   "cell_type": "code",
   "execution_count": 18,
   "id": "a3219ede",
   "metadata": {},
   "outputs": [
    {
     "data": {
      "text/plain": [
       "\"perky\""
      ]
     },
     "execution_count": 18,
     "metadata": {},
     "output_type": "execute_result"
    }
   ],
   "source": [
    "new_guess_and_update!(game_words, \"perch\", [2, 2, 2, 0, 0], all_words.words)"
   ]
  },
  {
   "cell_type": "markdown",
   "id": "6cdb5103",
   "metadata": {},
   "source": [
    "### Hard mode. \n"
   ]
  },
  {
   "cell_type": "markdown",
   "id": "db9fe15d",
   "metadata": {},
   "source": [
    "Wordle 222 "
   ]
  },
  {
   "cell_type": "code",
   "execution_count": 19,
   "id": "4dc84315",
   "metadata": {},
   "outputs": [
    {
     "data": {
      "text/plain": [
       "\"joint\""
      ]
     },
     "execution_count": 19,
     "metadata": {},
     "output_type": "execute_result"
    }
   ],
   "source": [
    "all_words = load_word_lists()\n",
    "game_words = load_word_lists().words\n",
    "\n",
    "new_guess_and_update!(game_words, \"roate\", [0, 2, 0, 1, 0], game_words, hard_mode = true)"
   ]
  },
  {
   "cell_type": "code",
   "execution_count": 20,
   "id": "ba42ada7",
   "metadata": {},
   "outputs": [
    {
     "data": {
      "text/plain": [
       "\"count\""
      ]
     },
     "execution_count": 20,
     "metadata": {},
     "output_type": "execute_result"
    }
   ],
   "source": [
    "new_guess_and_update!(game_words, \"joint\", [0, 2, 0, 2, 2], game_words, hard_mode = true)"
   ]
  },
  {
   "cell_type": "code",
   "execution_count": 21,
   "id": "0f8a982f",
   "metadata": {},
   "outputs": [
    {
     "data": {
      "text/plain": [
       "\"mount\""
      ]
     },
     "execution_count": 21,
     "metadata": {},
     "output_type": "execute_result"
    }
   ],
   "source": [
    "new_guess_and_update!(game_words, \"count\", [0, 2, 2, 2, 2], game_words, hard_mode = true)"
   ]
  },
  {
   "cell_type": "code",
   "execution_count": null,
   "id": "4899832c",
   "metadata": {},
   "outputs": [],
   "source": []
  }
 ],
 "metadata": {
  "kernelspec": {
   "display_name": "Julia 20 threads 1.7.1",
   "language": "julia",
   "name": "julia-20-threads-1.7"
  },
  "language_info": {
   "file_extension": ".jl",
   "mimetype": "application/julia",
   "name": "julia",
   "version": "1.7.1"
  }
 },
 "nbformat": 4,
 "nbformat_minor": 5
}

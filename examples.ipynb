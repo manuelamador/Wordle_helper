{
 "cells": [
  {
   "cell_type": "markdown",
   "id": "37523609",
   "metadata": {},
   "source": [
    "# Wordle helper "
   ]
  },
  {
   "cell_type": "markdown",
   "id": "a3a1f47b",
   "metadata": {},
   "source": [
    "Simple Julia code to help with playing the game Wordle. "
   ]
  },
  {
   "cell_type": "markdown",
   "id": "ef9e747e",
   "metadata": {},
   "source": [
    "## Loading the code"
   ]
  },
  {
   "cell_type": "code",
   "execution_count": 1,
   "id": "b178d573",
   "metadata": {},
   "outputs": [
    {
     "name": "stderr",
     "output_type": "stream",
     "text": [
      "\u001b[32m\u001b[1m  Activating\u001b[22m\u001b[39m project at `~/Github/Wordle_helper`\n"
     ]
    },
    {
     "data": {
      "text/plain": [
       "solve (generic function with 1 method)"
      ]
     },
     "execution_count": 1,
     "metadata": {},
     "output_type": "execute_result"
    }
   ],
   "source": [
    "import Pkg\n",
    "Pkg.activate(@__DIR__)\n",
    "Pkg.instantiate()\n",
    "\n",
    "import DataStructures: counter\n",
    "import Random: shuffle \n",
    "\n",
    "include(joinpath(@__DIR__, \"wordle_helper.jl\"))"
   ]
  },
  {
   "cell_type": "markdown",
   "id": "16144181",
   "metadata": {},
   "source": [
    "## Finding the best starting word"
   ]
  },
  {
   "cell_type": "code",
   "execution_count": 2,
   "id": "a9d7f4be",
   "metadata": {},
   "outputs": [
    {
     "name": "stderr",
     "output_type": "stream",
     "text": [
      "\u001b[32mProgress: 100%|█████████████████████████████████████████| Time: 0:02:39\u001b[39m\n"
     ]
    },
    {
     "data": {
      "text/plain": [
       "(\"roate\", 139883)"
      ]
     },
     "execution_count": 2,
     "metadata": {},
     "output_type": "execute_result"
    }
   ],
   "source": [
    "let \n",
    "    all_words = get_word_lists()\n",
    "    find_best_guess(;all_words..., verbose = true)\n",
    "end "
   ]
  },
  {
   "cell_type": "markdown",
   "id": "3b1e3144",
   "metadata": {},
   "source": [
    "Using only guesses that could be solutions:"
   ]
  },
  {
   "cell_type": "code",
   "execution_count": 3,
   "id": "bcbb6ef0",
   "metadata": {},
   "outputs": [
    {
     "name": "stderr",
     "output_type": "stream",
     "text": [
      "\u001b[32mProgress: 100%|█████████████████████████████████████████| Time: 0:00:27\u001b[39m\n"
     ]
    },
    {
     "data": {
      "text/plain": [
       "(\"raise\", 141216)"
      ]
     },
     "execution_count": 3,
     "metadata": {},
     "output_type": "execute_result"
    }
   ],
   "source": [
    "let \n",
    "    all_words = get_word_lists(; use_all_allowed_guesses = false)\n",
    "    find_best_guess(;all_words..., verbose = true)\n",
    "end "
   ]
  },
  {
   "cell_type": "markdown",
   "id": "4c39850e",
   "metadata": {},
   "source": [
    "## Solving some words"
   ]
  },
  {
   "cell_type": "markdown",
   "id": "a78753c3",
   "metadata": {},
   "source": [
    "Testing some solutions"
   ]
  },
  {
   "cell_type": "code",
   "execution_count": 4,
   "id": "61697116",
   "metadata": {},
   "outputs": [
    {
     "name": "stdout",
     "output_type": "stream",
     "text": [
      "[\"roate\", \"demon\", \"epoch\", \"epoxy\"]\n",
      "[\"roate\", \"slump\", \"lodge\"]\n",
      "[\"roate\", \"scold\", \"blimp\", \"awash\", \"wound\"]\n",
      "[\"roate\", \"slick\", \"admin\", \"awash\"]\n",
      "[\"roate\", \"raise\"]\n"
     ]
    }
   ],
   "source": [
    "let \n",
    "    all_words = get_word_lists(; use_all_allowed_guesses = false)\n",
    "    for w in [\"epoxy\", \"lodge\", \"wound\", \"awash\", \"raise\"] \n",
    "        println(solve(w, \"roate\"; all_words...))\n",
    "    end \n",
    "end"
   ]
  },
  {
   "cell_type": "markdown",
   "id": "aec3e62e",
   "metadata": {},
   "source": [
    "### Hard mode"
   ]
  },
  {
   "cell_type": "code",
   "execution_count": 5,
   "id": "72226313",
   "metadata": {},
   "outputs": [
    {
     "name": "stdout",
     "output_type": "stream",
     "text": [
      "[\"roate\", \"demon\", \"epoch\", \"epoxy\"]\n",
      "[\"roate\", \"louse\", \"lodge\"]\n",
      "[\"roate\", \"godly\", \"bound\", \"found\", \"hound\", \"mound\", \"pound\", \"sound\", \"wound\"]\n",
      "[\"roate\", \"slack\", \"awash\"]\n",
      "[\"roate\", \"raise\"]\n"
     ]
    }
   ],
   "source": [
    "let \n",
    "    all_words = get_word_lists(; use_all_allowed_guesses = false)\n",
    "    for w in [\"epoxy\", \"lodge\", \"wound\", \"awash\", \"raise\"] \n",
    "        println(solve(w, \"roate\"; all_words..., hard_mode = true))\n",
    "    end\n",
    "end  "
   ]
  },
  {
   "cell_type": "markdown",
   "id": "c2a26857",
   "metadata": {},
   "source": [
    "## Solving all games"
   ]
  },
  {
   "cell_type": "code",
   "execution_count": 6,
   "id": "eed15bb7",
   "metadata": {},
   "outputs": [
    {
     "data": {
      "text/plain": [
       "solve_all_words (generic function with 1 method)"
      ]
     },
     "execution_count": 6,
     "metadata": {},
     "output_type": "execute_result"
    }
   ],
   "source": [
    "function solve_all_words(; use_all_allowed_guesses = true, hard_mode = false, first_guess = \"roate\")\n",
    "    all_words = get_word_lists(; use_all_allowed_guesses)\n",
    "    p = Progress(length(all_words.words))\n",
    "    return ThreadsX.map(shuffle(all_words.words)) do word \n",
    "        next!(p)\n",
    "        solve(word, first_guess; all_words..., hard_mode)\n",
    "    end\n",
    "end"
   ]
  },
  {
   "cell_type": "code",
   "execution_count": 7,
   "id": "765f1524",
   "metadata": {},
   "outputs": [
    {
     "name": "stderr",
     "output_type": "stream",
     "text": [
      "\u001b[32mProgress: 100%|█████████████████████████████████████████| Time: 0:08:36\u001b[39m\n"
     ]
    },
    {
     "data": {
      "text/plain": [
       "4-element Vector{Pair{Int64, Int64}}:\n",
       " 2 => 53\n",
       " 3 => 1112\n",
       " 4 => 1100\n",
       " 5 => 50"
      ]
     },
     "execution_count": 7,
     "metadata": {},
     "output_type": "execute_result"
    }
   ],
   "source": [
    "let \n",
    "    sol = solve_all_words()\n",
    "    counter(map(x -> length(x), sol)) |> collect |> sort\n",
    "end "
   ]
  },
  {
   "cell_type": "markdown",
   "id": "f906401a",
   "metadata": {},
   "source": [
    "This algorithm breaks all Wordle puzzles under 5 guesses. "
   ]
  },
  {
   "cell_type": "markdown",
   "id": "2cd17dae",
   "metadata": {},
   "source": [
    "Using only guesses that are potential solutions: "
   ]
  },
  {
   "cell_type": "code",
   "execution_count": 8,
   "id": "4ba3ba49",
   "metadata": {},
   "outputs": [
    {
     "name": "stderr",
     "output_type": "stream",
     "text": [
      "\u001b[32mProgress: 100%|█████████████████████████████████████████| Time: 0:01:30\u001b[39m\n"
     ]
    },
    {
     "data": {
      "text/plain": [
       "5-element Vector{Pair{Int64, Int64}}:\n",
       " 1 => 1\n",
       " 2 => 60\n",
       " 3 => 1066\n",
       " 4 => 1095\n",
       " 5 => 93"
      ]
     },
     "execution_count": 8,
     "metadata": {},
     "output_type": "execute_result"
    }
   ],
   "source": [
    "let \n",
    "    sol = solve_all_words(; use_all_allowed_guesses = false, first_guess = \"raise\")\n",
    "    counter(map(x -> length(x), sol)) |> collect |> sort\n",
    "end"
   ]
  },
  {
   "cell_type": "markdown",
   "id": "2db645df",
   "metadata": {},
   "source": [
    "### Hard mode"
   ]
  },
  {
   "cell_type": "code",
   "execution_count": 9,
   "id": "2199d36f",
   "metadata": {},
   "outputs": [
    {
     "name": "stderr",
     "output_type": "stream",
     "text": [
      "\u001b[32mProgress: 100%|█████████████████████████████████████████| Time: 0:00:04\u001b[39m\n"
     ]
    },
    {
     "data": {
      "text/plain": [
       "8-element Vector{Pair{Int64, Int64}}:\n",
       " 2 => 126\n",
       " 3 => 980\n",
       " 4 => 954\n",
       " 5 => 199\n",
       " 6 => 43\n",
       " 7 => 9\n",
       " 8 => 3\n",
       " 9 => 1"
      ]
     },
     "execution_count": 9,
     "metadata": {},
     "output_type": "execute_result"
    }
   ],
   "source": [
    "let \n",
    "    sol = solve_all_words(; hard_mode = true)\n",
    "    counter(map(x -> length(x), sol)) |> collect |> sort\n",
    "end "
   ]
  },
  {
   "cell_type": "markdown",
   "id": "0a683bfe",
   "metadata": {},
   "source": [
    "Using only guesses that are potential solutions:"
   ]
  },
  {
   "cell_type": "code",
   "execution_count": 10,
   "id": "92fbd5a9",
   "metadata": {},
   "outputs": [
    {
     "name": "stderr",
     "output_type": "stream",
     "text": [
      "\u001b[32mProgress: 100%|█████████████████████████████████████████| Time: 0:00:03\u001b[39m\n"
     ]
    },
    {
     "data": {
      "text/plain": [
       "8-element Vector{Pair{Int64, Int64}}:\n",
       " 1 => 1\n",
       " 2 => 131\n",
       " 3 => 944\n",
       " 4 => 949\n",
       " 5 => 233\n",
       " 6 => 43\n",
       " 7 => 11\n",
       " 8 => 3"
      ]
     },
     "execution_count": 10,
     "metadata": {},
     "output_type": "execute_result"
    }
   ],
   "source": [
    "let \n",
    "    sol = solve_all_words(; hard_mode = true, use_all_allowed_guesses = false, first_guess = \"raise\")\n",
    "    counter(map(x -> length(x), sol)) |> collect |> sort\n",
    "end "
   ]
  },
  {
   "cell_type": "markdown",
   "id": "fb405a8a",
   "metadata": {},
   "source": [
    "## Breaking one Wordle\n",
    "\n",
    "### Wordle 220"
   ]
  },
  {
   "cell_type": "code",
   "execution_count": 11,
   "id": "68d8be88",
   "metadata": {},
   "outputs": [
    {
     "data": {
      "text/plain": [
       "(\"chant\", 49)"
      ]
     },
     "execution_count": 11,
     "metadata": {},
     "output_type": "execute_result"
    }
   ],
   "source": [
    "all_words = get_word_lists()\n",
    "game_words = get_word_lists().words\n",
    "\n",
    "new_guess_and_update!(game_words, \"raise\", [1, 1, 0, 1, 0], all_words.words)"
   ]
  },
  {
   "cell_type": "code",
   "execution_count": 12,
   "id": "b8b028fa",
   "metadata": {},
   "outputs": [
    {
     "data": {
      "text/plain": [
       "(\"solar\", 2)"
      ]
     },
     "execution_count": 12,
     "metadata": {},
     "output_type": "execute_result"
    }
   ],
   "source": [
    "new_guess_and_update!(game_words, \"chant\", [0, 0, 1, 0, 0], all_words.words)"
   ]
  },
  {
   "cell_type": "code",
   "execution_count": 13,
   "id": "eda5bb80",
   "metadata": {},
   "outputs": [
    {
     "data": {
      "text/plain": [
       "(\"sugar\", 0)"
      ]
     },
     "execution_count": 13,
     "metadata": {},
     "output_type": "execute_result"
    }
   ],
   "source": [
    "new_guess_and_update!(game_words, \"solar\", [2, 0, 0, 2, 2], all_words.words)"
   ]
  },
  {
   "cell_type": "markdown",
   "id": "3285ca33",
   "metadata": {},
   "source": [
    "### Wordle 223 "
   ]
  },
  {
   "cell_type": "code",
   "execution_count": 14,
   "id": "3dee9b70",
   "metadata": {},
   "outputs": [
    {
     "data": {
      "text/plain": [
       "(\"outer\", 885)"
      ]
     },
     "execution_count": 14,
     "metadata": {},
     "output_type": "execute_result"
    }
   ],
   "source": [
    "all_words = get_word_lists()\n",
    "game_words = get_word_lists().words\n",
    "\n",
    "new_guess_and_update!(game_words, \"raise\", [1, 0, 0, 0, 1], all_words.words)"
   ]
  },
  {
   "cell_type": "code",
   "execution_count": 15,
   "id": "35884a90",
   "metadata": {},
   "outputs": [
    {
     "data": {
      "text/plain": [
       "(\"clerk\", 25)"
      ]
     },
     "execution_count": 15,
     "metadata": {},
     "output_type": "execute_result"
    }
   ],
   "source": [
    "new_guess_and_update!(game_words, \"outer\", [0, 0, 0, 1, 1], all_words.words)"
   ]
  },
  {
   "cell_type": "code",
   "execution_count": 16,
   "id": "a3219ede",
   "metadata": {},
   "outputs": [
    {
     "data": {
      "text/plain": [
       "(\"jerky\", 1)"
      ]
     },
     "execution_count": 16,
     "metadata": {},
     "output_type": "execute_result"
    }
   ],
   "source": [
    "new_guess_and_update!(game_words, \"clerk\", [0, 0, 1, 1, 1], all_words.words)"
   ]
  },
  {
   "cell_type": "code",
   "execution_count": 17,
   "id": "f808713e",
   "metadata": {},
   "outputs": [
    {
     "data": {
      "text/plain": [
       "(\"perky\", 0)"
      ]
     },
     "execution_count": 17,
     "metadata": {},
     "output_type": "execute_result"
    }
   ],
   "source": [
    "new_guess_and_update!(game_words, \"jerky\", [0, 2, 2, 2, 2], all_words.words)"
   ]
  },
  {
   "cell_type": "markdown",
   "id": "6cdb5103",
   "metadata": {},
   "source": [
    "### Hard mode. \n"
   ]
  },
  {
   "cell_type": "markdown",
   "id": "db9fe15d",
   "metadata": {},
   "source": [
    "Wordle 222 "
   ]
  },
  {
   "cell_type": "code",
   "execution_count": 18,
   "id": "4dc84315",
   "metadata": {},
   "outputs": [
    {
     "data": {
      "text/plain": [
       "(\"could\", 1053)"
      ]
     },
     "execution_count": 18,
     "metadata": {},
     "output_type": "execute_result"
    }
   ],
   "source": [
    "all_words = get_word_lists()\n",
    "game_words = get_word_lists().words\n",
    "\n",
    "new_guess_and_update!(game_words, \"raise\", [0, 0, 0, 0, 0], game_words, hard_mode = true)"
   ]
  },
  {
   "cell_type": "code",
   "execution_count": 19,
   "id": "ba42ada7",
   "metadata": {},
   "outputs": [
    {
     "data": {
      "text/plain": [
       "(\"mouth\", 6)"
      ]
     },
     "execution_count": 19,
     "metadata": {},
     "output_type": "execute_result"
    }
   ],
   "source": [
    "new_guess_and_update!(game_words, \"could\", [0, 2, 2, 0, 0], game_words, hard_mode = true)"
   ]
  },
  {
   "cell_type": "code",
   "execution_count": 20,
   "id": "82c5db6b",
   "metadata": {},
   "outputs": [
    {
     "data": {
      "text/plain": [
       "(\"mount\", 0)"
      ]
     },
     "execution_count": 20,
     "metadata": {},
     "output_type": "execute_result"
    }
   ],
   "source": [
    "new_guess_and_update!(game_words, \"mouth\", [2, 2, 2, 1, 0], game_words, hard_mode = true)"
   ]
  }
 ],
 "metadata": {
  "kernelspec": {
   "display_name": "Julia 20 threads 1.7.1",
   "language": "julia",
   "name": "julia-20-threads-1.7"
  },
  "language_info": {
   "file_extension": ".jl",
   "mimetype": "application/julia",
   "name": "julia",
   "version": "1.7.1"
  }
 },
 "nbformat": 4,
 "nbformat_minor": 5
}
